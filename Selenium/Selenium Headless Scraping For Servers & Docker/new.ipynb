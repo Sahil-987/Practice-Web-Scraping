{
 "cells": [
  {
   "cell_type": "markdown",
   "metadata": {},
   "source": [
    "### https://www.youtube.com/watch?v=xrYDlx8evR0 | NeuralNine - Yt\n",
    "\n"
   ]
  },
  {
   "cell_type": "markdown",
   "metadata": {},
   "source": [
    "#### basic (that can work in your local machine but not in server)"
   ]
  },
  {
   "cell_type": "code",
   "execution_count": 1,
   "metadata": {},
   "outputs": [],
   "source": [
    "import time\n",
    "from bs4 import BeautifulSoup\n",
    "from selenium import webdriver\n",
    "from selenium.webdriver.chrome.service import Service\n",
    "from webdriver_manager.chrome import ChromeDriverManager"
   ]
  },
  {
   "cell_type": "code",
   "execution_count": 2,
   "metadata": {},
   "outputs": [],
   "source": [
    "driver = webdriver.Chrome(service=Service(ChromeDriverManager().install()))\n",
    "\n",
    "url = 'https://www.neuralnine.com/books'\n",
    "\n",
    "driver.get(url)\n",
    "\n",
    "soup = BeautifulSoup(driver.page_source, features='lxml')\n"
   ]
  },
  {
   "cell_type": "code",
   "execution_count": 7,
   "metadata": {},
   "outputs": [
    {
     "name": "stdout",
     "output_type": "stream",
     "text": [
      "PYTHON BIBLE 3 IN 1\n",
      "COLLECTION\n",
      "PYTHON BIBLE 5 IN 1\n",
      "COLLECTION\n",
      "PYTHON BIBLE 7 IN 1\n",
      "COLLECTION\n",
      "PYTHON BIBLE VOLUME ONE\n",
      "FOR BEGINNERS\n",
      "PYTHON BIBLE VOLUME TWO\n",
      "FOR INTERMEDIATES\n",
      "PYTHON BIBLE VOLUME THREE\n",
      "DATA SCIENCE\n",
      "PYTHON BIBLE VOLUME FOUR\n",
      "MACHINE LEARNING\n",
      "PYTHON BIBLE VOLUME FIVE\n",
      "FOR FINANCE\n",
      "PYTHON BIBLE VOLUME SIX\n",
      "NEURAL NETWORKS\n",
      "PYTHON BIBLE VOLUME SEVEN\n",
      "COMPUTER VISION\n",
      "THE BIBLE OF ALGORITHMS AND DATA STRUCTURES\n",
      "A COMPLEX SUBJECT SIMPLY EXPLAINED\n",
      "Copyright © 2023\n",
      "Navigation\n",
      "Legal\n",
      "Social Media\n"
     ]
    }
   ],
   "source": [
    "headings = soup.find_all(name = \"h2\", attrs = {'class':'elementor-heading-title'})\n",
    "\n",
    "for heading in headings:\n",
    "    print(heading.getText())\n",
    "\n",
    "\n",
    "time.sleep(10)\n",
    "\n",
    "driver.quit()"
   ]
  },
  {
   "cell_type": "code",
   "execution_count": null,
   "metadata": {},
   "outputs": [],
   "source": []
  },
  {
   "cell_type": "code",
   "execution_count": null,
   "metadata": {},
   "outputs": [],
   "source": []
  },
  {
   "cell_type": "markdown",
   "metadata": {},
   "source": [
    "## For servers"
   ]
  },
  {
   "cell_type": "code",
   "execution_count": 3,
   "metadata": {},
   "outputs": [],
   "source": [
    "from selenium.webdriver.chrome.options import Options\n",
    "\n",
    "\n",
    "chrome_options = Options()\n",
    "chrome_options.add_argument('--no-sandbox') # it is for security concern, it does not allow chrome to open sandbox\n",
    "# it is used when containerizing the selenium application\n",
    "chrome_options.add_argument('--headless') \n",
    "chrome_options.add_argument('--disable-dev-shm-usage') #by default selenium-chrome uses short term memory, which is slower in size,\n",
    "# by disabling it, it then uses disk memory || the CON is it's slower\n",
    "\n"
   ]
  },
  {
   "cell_type": "code",
   "execution_count": 4,
   "metadata": {},
   "outputs": [],
   "source": [
    "driver = webdriver.Chrome(service=Service(ChromeDriverManager().install()), options=chrome_options)"
   ]
  },
  {
   "cell_type": "code",
   "execution_count": 5,
   "metadata": {},
   "outputs": [],
   "source": [
    "url = 'https://www.neuralnine.com/books'\n",
    "\n",
    "driver.get(url)\n",
    "\n",
    "soup = BeautifulSoup(driver.page_source, features='lxml')"
   ]
  },
  {
   "cell_type": "code",
   "execution_count": 6,
   "metadata": {},
   "outputs": [
    {
     "name": "stdout",
     "output_type": "stream",
     "text": [
      "PYTHON BIBLE 3 IN 1\n",
      "COLLECTION\n",
      "PYTHON BIBLE 5 IN 1\n",
      "COLLECTION\n",
      "PYTHON BIBLE 7 IN 1\n",
      "COLLECTION\n",
      "PYTHON BIBLE VOLUME ONE\n",
      "FOR BEGINNERS\n",
      "PYTHON BIBLE VOLUME TWO\n",
      "FOR INTERMEDIATES\n",
      "PYTHON BIBLE VOLUME THREE\n",
      "DATA SCIENCE\n",
      "PYTHON BIBLE VOLUME FOUR\n",
      "MACHINE LEARNING\n",
      "PYTHON BIBLE VOLUME FIVE\n",
      "FOR FINANCE\n",
      "PYTHON BIBLE VOLUME SIX\n",
      "NEURAL NETWORKS\n",
      "PYTHON BIBLE VOLUME SEVEN\n",
      "COMPUTER VISION\n",
      "THE BIBLE OF ALGORITHMS AND DATA STRUCTURES\n",
      "A COMPLEX SUBJECT SIMPLY EXPLAINED\n",
      "Copyright © 2023\n",
      "Navigation\n",
      "Legal\n",
      "Social Media\n"
     ]
    }
   ],
   "source": [
    "headings = soup.find_all(name = \"h2\", attrs = {'class':'elementor-heading-title'})\n",
    "\n",
    "for heading in headings:\n",
    "    print(heading.getText())\n",
    "\n",
    "\n",
    "time.sleep(10)\n",
    "\n",
    "driver.quit()"
   ]
  },
  {
   "cell_type": "code",
   "execution_count": null,
   "metadata": {},
   "outputs": [],
   "source": []
  }
 ],
 "metadata": {
  "kernelspec": {
   "display_name": "Python 3",
   "language": "python",
   "name": "python3"
  },
  "language_info": {
   "codemirror_mode": {
    "name": "ipython",
    "version": 3
   },
   "file_extension": ".py",
   "mimetype": "text/x-python",
   "name": "python",
   "nbconvert_exporter": "python",
   "pygments_lexer": "ipython3",
   "version": "3.11.2"
  }
 },
 "nbformat": 4,
 "nbformat_minor": 2
}
